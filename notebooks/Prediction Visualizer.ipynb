{
 "cells": [
  {
   "cell_type": "markdown",
   "metadata": {},
   "source": [
    "# Prediction Visualizer"
   ]
  },
  {
   "cell_type": "markdown",
   "metadata": {},
   "source": [
    "This notebook demonstrates how to plot the sentence/word attentions for each one of the documents in the test set, for debugging purposes."
   ]
  },
  {
   "cell_type": "code",
   "execution_count": 23,
   "metadata": {},
   "outputs": [],
   "source": [
    "import srsly\n",
    "import matplotlib\n",
    "import matplotlib.pyplot as plt\n",
    "from IPython.display import display, HTML"
   ]
  },
  {
   "cell_type": "code",
   "execution_count": 5,
   "metadata": {},
   "outputs": [],
   "source": [
    "    PREDICTIONS_PATH = \"../logdir/ag_news_glove_run/bs=32,lr=7.4e-04,end_lr=0e0/ie_dirs/glove_run.jsonl\""
   ]
  },
  {
   "cell_type": "code",
   "execution_count": 6,
   "metadata": {},
   "outputs": [],
   "source": [
    "predictions = list(srsly.read_jsonl(PREDICTIONS_PATH))"
   ]
  },
  {
   "cell_type": "code",
   "execution_count": 18,
   "metadata": {},
   "outputs": [],
   "source": [
    "# referenced to https://github.com/sharkmir1/Hierarchical-Attention-Network/blob/master/utils.py\n",
    "def map_sentence_to_color(words, scores, sent_score):\n",
    "    \"\"\"\n",
    "    :param words: array of words\n",
    "    :param scores: array of attention scores each corresponding to a word\n",
    "    :param sent_score: sentence attention score\n",
    "    :return: html formatted string\n",
    "    \"\"\"\n",
    "\n",
    "    sentencemap = matplotlib.cm.get_cmap('binary')\n",
    "    wordmap = matplotlib.cm.get_cmap('OrRd')\n",
    "    result = '<p><span style=\"margin:5px; padding:5px; background-color: {}\">'\\\n",
    "        .format(matplotlib.colors.rgb2hex(sentencemap(sent_score)[:3]))\n",
    "    template = '<span class=\"barcode\"; style=\"color: black; background-color: {}\">{}</span>'\n",
    "    for word, score in zip(words, scores):\n",
    "        color = matplotlib.colors.rgb2hex(wordmap(score)[:3])\n",
    "        result += template.format(color, '&nbsp' + word + '&nbsp')\n",
    "    result += '</span><p>'\n",
    "    return result"
   ]
  },
  {
   "cell_type": "code",
   "execution_count": 27,
   "metadata": {},
   "outputs": [],
   "source": [
    "def visualize(i):\n",
    "    item = predictions[i]\n",
    "    \n",
    "    original_document = item[\"original_document\"]\n",
    "    word_att_weights = item[\"word_att_weights\"]\n",
    "    sentence_att_weights = item[\"sentence_att_weights\"]\n",
    "\n",
    "    print(f\"True Label: {item['true_label']}\")\n",
    "    print(f\"Predicted Label: {item['predicted_label']}\")\n",
    "\n",
    "    result = \"<h2>Attention Visualization</h2>\"\n",
    "    for orig_sent, att_weight, sent_weight in zip(original_document, word_att_weights, sentence_att_weights):\n",
    "        result += map_sentence_to_color(orig_sent, att_weight, sent_weight)\n",
    "\n",
    "    display(HTML(result))"
   ]
  },
  {
   "cell_type": "code",
   "execution_count": 33,
   "metadata": {},
   "outputs": [
    {
     "name": "stdout",
     "output_type": "stream",
     "text": [
      "True Label: Sci/Tech\n",
      "Predicted Label: Sci/Tech\n"
     ]
    },
    {
     "data": {
      "text/html": [
       "<h2>Attention Visualization</h2><p><span style=\"margin:5px; padding:5px; background-color: #ffffff\"><span class=\"barcode\"; style=\"color: black; background-color: #feecd2\">&nbspnetratings&nbsp</span><span class=\"barcode\"; style=\"color: black; background-color: #fff3e3\">&nbspsurvey&nbsp</span><span class=\"barcode\"; style=\"color: black; background-color: #fff1dd\">&nbspshows&nbsp</span><span class=\"barcode\"; style=\"color: black; background-color: #fdc992\">&nbspbroadband&nbsp</span><span class=\"barcode\"; style=\"color: black; background-color: #fdc68f\">&nbspusers&nbsp</span><span class=\"barcode\"; style=\"color: black; background-color: #feefd9\">&nbspnow&nbsp</span><span class=\"barcode\"; style=\"color: black; background-color: #fff5e7\">&nbspa&nbsp</span><span class=\"barcode\"; style=\"color: black; background-color: #feefd9\">&nbspmajority&nbsp</span><span class=\"barcode\"; style=\"color: black; background-color: #fff6e9\">&nbspin&nbsp</span><span class=\"barcode\"; style=\"color: black; background-color: #fff4e5\">&nbspus&nbsp</span></span><p><p><span style=\"margin:5px; padding:5px; background-color: #000000\"><span class=\"barcode\"; style=\"color: black; background-color: #fff7ec\">&nbspaugust&nbsp</span><span class=\"barcode\"; style=\"color: black; background-color: #fff7ec\">&nbsp18&nbsp</span><span class=\"barcode\"; style=\"color: black; background-color: #fff7ec\">&nbsp,&nbsp</span><span class=\"barcode\"; style=\"color: black; background-color: #fff7eb\">&nbsp2004&nbsp</span><span class=\"barcode\"; style=\"color: black; background-color: #fff7ec\">&nbsp(&nbsp</span><span class=\"barcode\"; style=\"color: black; background-color: #fff0db\">&nbspidg&nbsp</span><span class=\"barcode\"; style=\"color: black; background-color: #fff6ea\">&nbspnews&nbsp</span><span class=\"barcode\"; style=\"color: black; background-color: #fff5e7\">&nbspservice&nbsp</span><span class=\"barcode\"; style=\"color: black; background-color: #fff7eb\">&nbsp)&nbsp</span><span class=\"barcode\"; style=\"color: black; background-color: #fff7eb\">&nbsp-&nbsp</span><span class=\"barcode\"; style=\"color: black; background-color: #fff7eb\">&nbspa&nbsp</span><span class=\"barcode\"; style=\"color: black; background-color: #fff5e6\">&nbspmajority&nbsp</span><span class=\"barcode\"; style=\"color: black; background-color: #fff7eb\">&nbspof&nbsp</span><span class=\"barcode\"; style=\"color: black; background-color: #fff6ea\">&nbspus&nbsp</span><span class=\"barcode\"; style=\"color: black; background-color: #fff3e3\">&nbsphome&nbsp</span><span class=\"barcode\"; style=\"color: black; background-color: #fee1b9\">&nbspinternet&nbsp</span><span class=\"barcode\"; style=\"color: black; background-color: #fddaab\">&nbspusers&nbsp</span><span class=\"barcode\"; style=\"color: black; background-color: #feefd9\">&nbspnow&nbsp</span><span class=\"barcode\"; style=\"color: black; background-color: #fff0dc\">&nbsphave&nbsp</span><span class=\"barcode\"; style=\"color: black; background-color: #feecd1\">&nbspbroadband&nbsp</span><span class=\"barcode\"; style=\"color: black; background-color: #fff5e6\">&nbsp,&nbsp</span><span class=\"barcode\"; style=\"color: black; background-color: #fff5e7\">&nbspaccording&nbsp</span><span class=\"barcode\"; style=\"color: black; background-color: #fff7eb\">&nbspto&nbsp</span><span class=\"barcode\"; style=\"color: black; background-color: #fff7eb\">&nbspa&nbsp</span><span class=\"barcode\"; style=\"color: black; background-color: #fff6ea\">&nbspsurvey&nbsp</span><span class=\"barcode\"; style=\"color: black; background-color: #fff6e9\">&nbspby&nbsp</span><span class=\"barcode\"; style=\"color: black; background-color: #feefda\">&nbspnetratings&nbsp</span><span class=\"barcode\"; style=\"color: black; background-color: #feefd8\">&nbspinc.&nbsp</span></span><p>"
      ],
      "text/plain": [
       "<IPython.core.display.HTML object>"
      ]
     },
     "metadata": {},
     "output_type": "display_data"
    }
   ],
   "source": [
    "visualize(200)"
   ]
  },
  {
   "cell_type": "code",
   "execution_count": null,
   "metadata": {},
   "outputs": [],
   "source": []
  }
 ],
 "metadata": {
  "kernelspec": {
   "display_name": "han",
   "language": "python",
   "name": "han"
  },
  "language_info": {
   "codemirror_mode": {
    "name": "ipython",
    "version": 3
   },
   "file_extension": ".py",
   "mimetype": "text/x-python",
   "name": "python",
   "nbconvert_exporter": "python",
   "pygments_lexer": "ipython3",
   "version": "3.6.8"
  }
 },
 "nbformat": 4,
 "nbformat_minor": 2
}
