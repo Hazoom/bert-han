{
 "cells": [
  {
   "cell_type": "markdown",
   "metadata": {},
   "source": [
    "# Prediction Visualizer"
   ]
  },
  {
   "cell_type": "markdown",
   "metadata": {},
   "source": [
    "This notebook demonstrates how to plot the sentence/word attentions for each one of the documents in the test set, for debugging purposes."
   ]
  },
  {
   "cell_type": "code",
   "execution_count": 23,
   "metadata": {},
   "outputs": [],
   "source": [
    "import srsly\n",
    "import matplotlib\n",
    "import matplotlib.pyplot as plt\n",
    "from IPython.display import display, HTML"
   ]
  },
  {
   "cell_type": "code",
   "execution_count": 5,
   "metadata": {},
   "outputs": [],
   "source": [
    "PREDICTIONS_PATH = \"../logdir/ag_news_glove_run/bs=32,lr=7.4e-04,end_lr=0e0/ie_dirs/glove_run.jsonl\""
   ]
  },
  {
   "cell_type": "code",
   "execution_count": 6,
   "metadata": {},
   "outputs": [],
   "source": [
    "predictions = list(srsly.read_jsonl(PREDICTIONS_PATH))"
   ]
  },
  {
   "cell_type": "code",
   "execution_count": 18,
   "metadata": {},
   "outputs": [],
   "source": [
    "# referenced to https://github.com/sharkmir1/Hierarchical-Attention-Network/blob/master/utils.py\n",
    "def map_sentence_to_color(words, scores, sent_score):\n",
    "    \"\"\"\n",
    "    :param words: array of words\n",
    "    :param scores: array of attention scores each corresponding to a word\n",
    "    :param sent_score: sentence attention score\n",
    "    :return: html formatted string\n",
    "    \"\"\"\n",
    "\n",
    "    sentencemap = matplotlib.cm.get_cmap('binary')\n",
    "    wordmap = matplotlib.cm.get_cmap('OrRd')\n",
    "    result = '<p><span style=\"margin:5px; padding:5px; background-color: {}\">'\\\n",
    "        .format(matplotlib.colors.rgb2hex(sentencemap(sent_score)[:3]))\n",
    "    template = '<span class=\"barcode\"; style=\"color: black; background-color: {}\">{}</span>'\n",
    "    for word, score in zip(words, scores):\n",
    "        color = matplotlib.colors.rgb2hex(wordmap(score)[:3])\n",
    "        result += template.format(color, '&nbsp' + word + '&nbsp')\n",
    "    result += '</span><p>'\n",
    "    return result"
   ]
  },
  {
   "cell_type": "code",
   "execution_count": 27,
   "metadata": {},
   "outputs": [],
   "source": [
    "def visualize(i):\n",
    "    item = predictions[i]\n",
    "    \n",
    "    original_document = item[\"original_document\"]\n",
    "    word_att_weights = item[\"word_att_weights\"]\n",
    "    sentence_att_weights = item[\"sentence_att_weights\"]\n",
    "\n",
    "    print(f\"True Label: {item['true_label']}\")\n",
    "    print(f\"Predicted Label: {item['predicted_label']}\")\n",
    "\n",
    "    result = \"<h2>Attention Visualization</h2>\"\n",
    "    for orig_sent, att_weight, sent_weight in zip(original_document, word_att_weights, sentence_att_weights):\n",
    "        result += map_sentence_to_color(orig_sent, att_weight, sent_weight)\n",
    "\n",
    "    display(HTML(result))"
   ]
  },
  {
   "cell_type": "code",
   "execution_count": 31,
   "metadata": {},
   "outputs": [
    {
     "name": "stdout",
     "output_type": "stream",
     "text": [
      "True Label: Business\n",
      "Predicted Label: Business\n"
     ]
    },
    {
     "data": {
      "text/html": [
       "<h2>Attention Visualization</h2><p><span style=\"margin:5px; padding:5px; background-color: #ffffff\"><span class=\"barcode\"; style=\"color: black; background-color: #fee8c8\">&nbsphome&nbsp</span><span class=\"barcode\"; style=\"color: black; background-color: #fdad77\">&nbspdepot&nbsp</span><span class=\"barcode\"; style=\"color: black; background-color: #fdd6a2\">&nbsplikes&nbsp</span><span class=\"barcode\"; style=\"color: black; background-color: #fff1de\">&nbsphigh&nbsp</span><span class=\"barcode\"; style=\"color: black; background-color: #fee1b9\">&nbspoil&nbsp</span></span><p><p><span style=\"margin:5px; padding:5px; background-color: #000000\"><span class=\"barcode\"; style=\"color: black; background-color: #fff7eb\">&nbsprising&nbsp</span><span class=\"barcode\"; style=\"color: black; background-color: #fff7eb\">&nbspfuel&nbsp</span><span class=\"barcode\"; style=\"color: black; background-color: #fff6e9\">&nbspprices&nbsp</span><span class=\"barcode\"; style=\"color: black; background-color: #fff7ec\">&nbsp,&nbsp</span><span class=\"barcode\"; style=\"color: black; background-color: #fff7ec\">&nbspa&nbsp</span><span class=\"barcode\"; style=\"color: black; background-color: #fff7ec\">&nbspbugbear&nbsp</span><span class=\"barcode\"; style=\"color: black; background-color: #fff7ec\">&nbspfor&nbsp</span><span class=\"barcode\"; style=\"color: black; background-color: #fff7ec\">&nbspmost&nbsp</span><span class=\"barcode\"; style=\"color: black; background-color: #fff7ec\">&nbspof&nbsp</span><span class=\"barcode\"; style=\"color: black; background-color: #fff7ec\">&nbspthe&nbsp</span><span class=\"barcode\"; style=\"color: black; background-color: #fff4e5\">&nbspretail&nbsp</span><span class=\"barcode\"; style=\"color: black; background-color: #fff5e6\">&nbspsector&nbsp</span><span class=\"barcode\"; style=\"color: black; background-color: #fff7ec\">&nbsp,&nbsp</span><span class=\"barcode\"; style=\"color: black; background-color: #fff7ec\">&nbspare&nbsp</span><span class=\"barcode\"; style=\"color: black; background-color: #fff7eb\">&nbsphelping&nbsp</span><span class=\"barcode\"; style=\"color: black; background-color: #fff6ea\">&nbsphome&nbsp</span><span class=\"barcode\"; style=\"color: black; background-color: #fff1de\">&nbspdepot&nbsp</span><span class=\"barcode\"; style=\"color: black; background-color: #fff7eb\">&nbsp(&nbsp</span><span class=\"barcode\"; style=\"color: black; background-color: #fedfb4\">&nbsphd&nbsp</span><span class=\"barcode\"; style=\"color: black; background-color: #fff4e4\">&nbsp:&nbsp</span><span class=\"barcode\"; style=\"color: black; background-color: #feefd8\">&nbspnyse&nbsp</span><span class=\"barcode\"; style=\"color: black; background-color: #fff4e4\">&nbsp-&nbsp</span><span class=\"barcode\"; style=\"color: black; background-color: #fff5e7\">&nbspnews&nbsp</span><span class=\"barcode\"; style=\"color: black; background-color: #fff5e7\">&nbsp-&nbsp</span><span class=\"barcode\"; style=\"color: black; background-color: #fff4e4\">&nbspresearch&nbsp</span><span class=\"barcode\"; style=\"color: black; background-color: #fff7eb\">&nbsp)&nbsp</span><span class=\"barcode\"; style=\"color: black; background-color: #fff6e9\">&nbsp,&nbsp</span><span class=\"barcode\"; style=\"color: black; background-color: #fff6ea\">&nbspthe&nbsp</span><span class=\"barcode\"; style=\"color: black; background-color: #fff1dd\">&nbspremodeling&nbsp</span><span class=\"barcode\"; style=\"color: black; background-color: #fff0db\">&nbspgiant&nbsp</span><span class=\"barcode\"; style=\"color: black; background-color: #fff4e4\">&nbspthat&nbsp</span><span class=\"barcode\"; style=\"color: black; background-color: #fff6e9\">&nbspreported&nbsp</span><span class=\"barcode\"; style=\"color: black; background-color: #fff6ea\">&nbspa&nbsp</span><span class=\"barcode\"; style=\"color: black; background-color: #fff5e7\">&nbspsurge&nbsp</span><span class=\"barcode\"; style=\"color: black; background-color: #fff6e9\">&nbspin&nbsp</span><span class=\"barcode\"; style=\"color: black; background-color: #fff6ea\">&nbspsecond&nbsp</span><span class=\"barcode\"; style=\"color: black; background-color: #fff6e9\">&nbsp-&nbsp</span><span class=\"barcode\"; style=\"color: black; background-color: #fff0db\">&nbspquarter&nbsp</span><span class=\"barcode\"; style=\"color: black; background-color: #feefda\">&nbspearnings&nbsp</span><span class=\"barcode\"; style=\"color: black; background-color: #fff6ea\">&nbsptuesday&nbsp</span><span class=\"barcode\"; style=\"color: black; background-color: #fff7ec\">&nbspand&nbsp</span><span class=\"barcode\"; style=\"color: black; background-color: #fff5e6\">&nbspguided&nbsp</span><span class=\"barcode\"; style=\"color: black; background-color: #fff7eb\">&nbspthe&nbsp</span><span class=\"barcode\"; style=\"color: black; background-color: #fff6e9\">&nbsprest&nbsp</span><span class=\"barcode\"; style=\"color: black; background-color: #fff7ec\">&nbspof&nbsp</span><span class=\"barcode\"; style=\"color: black; background-color: #fff7eb\">&nbspthe&nbsp</span><span class=\"barcode\"; style=\"color: black; background-color: #fff7eb\">&nbspyear&nbsp</span><span class=\"barcode\"; style=\"color: black; background-color: #fff5e7\">&nbsphigher&nbsp</span><span class=\"barcode\"; style=\"color: black; background-color: #fff7eb\">&nbsp.&nbsp</span></span><p>"
      ],
      "text/plain": [
       "<IPython.core.display.HTML object>"
      ]
     },
     "metadata": {},
     "output_type": "display_data"
    }
   ],
   "source": [
    "visualize(100)"
   ]
  },
  {
   "cell_type": "code",
   "execution_count": null,
   "metadata": {},
   "outputs": [],
   "source": []
  }
 ],
 "metadata": {
  "kernelspec": {
   "display_name": "han",
   "language": "python",
   "name": "han"
  },
  "language_info": {
   "codemirror_mode": {
    "name": "ipython",
    "version": 3
   },
   "file_extension": ".py",
   "mimetype": "text/x-python",
   "name": "python",
   "nbconvert_exporter": "python",
   "pygments_lexer": "ipython3",
   "version": "3.6.8"
  }
 },
 "nbformat": 4,
 "nbformat_minor": 2
}
